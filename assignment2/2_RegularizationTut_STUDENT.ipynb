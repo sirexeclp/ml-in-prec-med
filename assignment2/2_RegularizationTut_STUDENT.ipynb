{
 "cells": [
  {
   "cell_type": "markdown",
   "metadata": {
    "colab_type": "text",
    "id": "2mcbz7SWBq_I"
   },
   "source": [
    "# Tutorial 2 - Multiple linear regression with Regularization\n",
    "\n",
    "Welcome to the second tutorial of the course 'Machine learning for Precision Medicine'.\n",
    "\n",
    "In the last tutorial we calculated the best coefficients to predict the Insulin level from BMI with a simple linear regression model. However, the prediction was not very accurate. In an effort to get more accurate predictions, we will take more parameters (predictors) from the dataset into account by using a multiple linear regression model. Our predictors will now be: Pregnancies, Glucose, BloodPressure, SkinThickness, BMI, the Pedigree-score and Age.\n",
    "\n",
    "(The pedigree score provides information about patients' genetic susceptibility for developing diabetes. Understanding this score is not important for this tutorial. Just keep in mind, it represents the diabetes mellitus history in relatives and the genetic relationship of those relatives to the patient.)\n",
    "\n",
    "But let's look at the dataset again first."
   ]
  },
  {
   "cell_type": "code",
   "execution_count": 147,
   "metadata": {
    "colab": {},
    "colab_type": "code",
    "id": "dUOnzk_uBq_M"
   },
   "outputs": [],
   "source": [
    "# Import python libraries.\n",
    "\n",
    "import pandas as pd\n",
    "import numpy as np\n",
    "\n",
    "# for manipulation of graph and figures\n",
    "from matplotlib import pyplot as plt\n",
    "\n"
   ]
  },
  {
   "cell_type": "code",
   "execution_count": 148,
   "metadata": {
    "colab": {},
    "colab_type": "code",
    "id": "nGyPrYwMBq_X"
   },
   "outputs": [
    {
     "data": {
      "text/html": [
       "<div>\n",
       "<style scoped>\n",
       "    .dataframe tbody tr th:only-of-type {\n",
       "        vertical-align: middle;\n",
       "    }\n",
       "\n",
       "    .dataframe tbody tr th {\n",
       "        vertical-align: top;\n",
       "    }\n",
       "\n",
       "    .dataframe thead th {\n",
       "        text-align: right;\n",
       "    }\n",
       "</style>\n",
       "<table border=\"1\" class=\"dataframe\">\n",
       "  <thead>\n",
       "    <tr style=\"text-align: right;\">\n",
       "      <th></th>\n",
       "      <th>Pregnancies</th>\n",
       "      <th>Glucose</th>\n",
       "      <th>BloodPressure</th>\n",
       "      <th>SkinThickness</th>\n",
       "      <th>Insulin</th>\n",
       "      <th>BMI</th>\n",
       "      <th>DiabetesPedigreeFunction</th>\n",
       "      <th>Age</th>\n",
       "      <th>Outcome</th>\n",
       "    </tr>\n",
       "  </thead>\n",
       "  <tbody>\n",
       "    <tr>\n",
       "      <th>0</th>\n",
       "      <td>6</td>\n",
       "      <td>148</td>\n",
       "      <td>72</td>\n",
       "      <td>35</td>\n",
       "      <td>0</td>\n",
       "      <td>33.6</td>\n",
       "      <td>0.627</td>\n",
       "      <td>50</td>\n",
       "      <td>1</td>\n",
       "    </tr>\n",
       "    <tr>\n",
       "      <th>1</th>\n",
       "      <td>1</td>\n",
       "      <td>85</td>\n",
       "      <td>66</td>\n",
       "      <td>29</td>\n",
       "      <td>0</td>\n",
       "      <td>26.6</td>\n",
       "      <td>0.351</td>\n",
       "      <td>31</td>\n",
       "      <td>0</td>\n",
       "    </tr>\n",
       "    <tr>\n",
       "      <th>2</th>\n",
       "      <td>8</td>\n",
       "      <td>183</td>\n",
       "      <td>64</td>\n",
       "      <td>0</td>\n",
       "      <td>0</td>\n",
       "      <td>23.3</td>\n",
       "      <td>0.672</td>\n",
       "      <td>32</td>\n",
       "      <td>1</td>\n",
       "    </tr>\n",
       "    <tr>\n",
       "      <th>3</th>\n",
       "      <td>1</td>\n",
       "      <td>89</td>\n",
       "      <td>66</td>\n",
       "      <td>23</td>\n",
       "      <td>94</td>\n",
       "      <td>28.1</td>\n",
       "      <td>0.167</td>\n",
       "      <td>21</td>\n",
       "      <td>0</td>\n",
       "    </tr>\n",
       "    <tr>\n",
       "      <th>4</th>\n",
       "      <td>0</td>\n",
       "      <td>137</td>\n",
       "      <td>40</td>\n",
       "      <td>35</td>\n",
       "      <td>168</td>\n",
       "      <td>43.1</td>\n",
       "      <td>2.288</td>\n",
       "      <td>33</td>\n",
       "      <td>1</td>\n",
       "    </tr>\n",
       "  </tbody>\n",
       "</table>\n",
       "</div>"
      ],
      "text/plain": [
       "   Pregnancies  Glucose  BloodPressure  SkinThickness  Insulin   BMI  \\\n",
       "0            6      148             72             35        0  33.6   \n",
       "1            1       85             66             29        0  26.6   \n",
       "2            8      183             64              0        0  23.3   \n",
       "3            1       89             66             23       94  28.1   \n",
       "4            0      137             40             35      168  43.1   \n",
       "\n",
       "   DiabetesPedigreeFunction  Age  Outcome  \n",
       "0                     0.627   50        1  \n",
       "1                     0.351   31        0  \n",
       "2                     0.672   32        1  \n",
       "3                     0.167   21        0  \n",
       "4                     2.288   33        1  "
      ]
     },
     "execution_count": 148,
     "metadata": {},
     "output_type": "execute_result"
    }
   ],
   "source": [
    "# this loads the data into a pandas DataFrame, './diabetes.csv' specifies the directory for the datafile\n",
    "df = pd.read_csv('./diabetes.csv')\n",
    "\n",
    "# look at the first 5 rows of the dataset\n",
    "df.head()"
   ]
  },
  {
   "cell_type": "markdown",
   "metadata": {
    "colab_type": "text",
    "id": "0aMzuc9yBq_e"
   },
   "source": [
    "***"
   ]
  },
  {
   "cell_type": "markdown",
   "metadata": {
    "colab_type": "text",
    "id": "WFgMzECvBq_g"
   },
   "source": [
    "In contrast to our previous exercise, where we had observations $(\\mathit x,\\mathit y)$ where both $\\mathit x$ and $\\mathit y$ were scalar variables, we now have pairs of $(\\mathbf x,\\mathit y)$, where boldface $\\mathbf x$ refers to the fact that $\\mathbf x$ is a column vector.\n",
    "\n",
    "Previous fomula:  \n",
    "$\\mathit y = a + b * BMI$\n",
    "\n",
    "Whereas previously, we only had to find two parameters $a$ (intercept or bias) and $b$ (slope), we now have to find a parameter for each of the predictor variables. We will include the parameters in the parameter vector $\\theta$.\n",
    "\n",
    "New formula: \n",
    "$y = a + \\theta_1 * BMI + \\theta_2 * Glucose + \\theta_3 * SkinThickness + \\theta_4 * Age + \\theta_5 * Pedigree$\n",
    "\n"
   ]
  },
  {
   "cell_type": "code",
   "execution_count": null,
   "metadata": {},
   "outputs": [],
   "source": []
  },
  {
   "cell_type": "markdown",
   "metadata": {
    "colab_type": "text",
    "id": "HiqqnzAIBq_h"
   },
   "source": [
    "### Matrix notation of the Least Squares regression problem\n",
    "\n",
    "For a single observation we can write down the relationship above as a scalar product (also called dot product) of two vectors, $\\mathbf θ$ (our parameters) and $\\mathbf x$. Since $\\mathbf x$ is a column vector, we need to transpose it first into row vector.\n",
    "\n",
    "$$ \\mathbf x^T \\mathbf θ + a \\approx \\mathit y $$\n",
    "\n",
    "However, we will find it useful to directly include the bias parameter $a$ inside our parameter vector, i.e. $a = \\mathbf θ_0$. For this we have to prepend all observations $\\mathbf x$ by a constant of 1 in order to arrive at a completely vectorized notation:\n",
    "$$ \\mathbf x^{T} \\mathbf θ \\approx \\mathit y $$\n",
    "\n",
    "This way the first element of $\\mathbf θ$ corresponds to the bias:\n",
    "\n",
    "$$ \\mathbf x = [1, \\mathbf x_1, \\mathbf x_2, ... , \\mathbf x_n ]^T $$\n",
    "$$ \\mathbf θ = [\\theta_0, \\theta_1, \\theta_2, ..., \\theta_n] $$\n",
    "\n",
    "So far, we have looked at single pairs of $(\\mathbf x, \\mathit y )$. We now expand our view to the entire dataset with all observations $\\mathbf X$ and $\\mathbf y$. Where $\\mathbf X$ is the matrix that results of stacking all vectors $\\mathbf x^T$ (including the prepended constant) on top of each other, resulting in $ n * d $ matrix, where $n$ is the number of observations (rows) and $d$ is the number of elements in each vector $\\mathbf x$ (number of independant variables + 1). Thus $d$ corresponds to the number of parameters of our linear regression model. $\\mathbf y$ is the vector of the corresponding Insulin-values.\n",
    "\n",
    "In matrix notation we can write the complete system of equations as:\n",
    "\n",
    "$$\\mathbf X  \\mathbf θ \\approx \\mathbf y $$ \n",
    "\n",
    "$$ \\begin{pmatrix} —\\enspace{x^T}\\:^{(1)}\\enspace—\\\\ —\\enspace{x^T}\\:^{(2)}\\enspace—\\\\.\\\\.\\\\ —\\enspace{x^T}\\:^{(n)}\\enspace—\\end{pmatrix} \\begin{pmatrix} θ_{0} \\\\θ_{1}\\\\.\\\\.\\\\θ_{d}\\end{pmatrix}  \\approx  \\begin{pmatrix} {y}\\:^{(1)}\\\\ {y}\\:^{(2)}\\\\.\\\\.\\\\ {y}\\:^{(n)}\\end{pmatrix} $$\n",
    "\n"
   ]
  },
  {
   "cell_type": "markdown",
   "metadata": {
    "colab_type": "text",
    "id": "GA4KAMruBq_k"
   },
   "source": [
    "Now, we need to estimate the parameters $\\theta$, that minimize the squared difference between predicted values $\\hat{y}$ and true values of $y$."
   ]
  },
  {
   "cell_type": "code",
   "execution_count": 149,
   "metadata": {
    "colab": {},
    "colab_type": "code",
    "id": "ghC9bmUGBq_l"
   },
   "outputs": [],
   "source": [
    "# Pre-processing the dataset:\n",
    "\n",
    "# we remove the variable \"Outcome\" from the table:\n",
    "data = df.drop('Outcome',1)\n",
    "\n",
    "# we remove rows with missing values (0) from the table:\n",
    "data = data[(data != 0).all(1)]\n"
   ]
  },
  {
   "cell_type": "markdown",
   "metadata": {
    "colab_type": "text",
    "id": "NaF2nN5bBq_r"
   },
   "source": [
    "It's usually a good idea to visualize the variables of your model in order to get an idea of how they are distributed. Here we plot a histograms of some of the variabes in order to get an idea of how our variables are distributed."
   ]
  },
  {
   "cell_type": "code",
   "execution_count": 150,
   "metadata": {
    "colab": {},
    "colab_type": "code",
    "id": "2JXXe0GeBq_t"
   },
   "outputs": [
    {
     "data": {
      "image/png": "[encoded data removed]",
      "text/plain": [
       "<Figure size 576x288 with 3 Axes>"
      ]
     },
     "metadata": {
      "needs_background": "dark"
     },
     "output_type": "display_data"
    }
   ],
   "source": [
    "fig, (ax0, ax1, ax2) = plt.subplots(ncols=3, figsize=(8, 4))\n",
    "ax0.hist(data['Glucose'], 20, density=False, facecolor='b')\n",
    "ax0.set_title('Glucose')\n",
    "ax1.hist(data['Age'], 20, density=False, facecolor='g')\n",
    "ax1.set_title('Age')\n",
    "ax2.hist(data['DiabetesPedigreeFunction'], 20, density=False, facecolor='r')\n",
    "ax2.set_title('Pedigree Function')\n",
    "fig.tight_layout()"
   ]
  },
  {
   "cell_type": "markdown",
   "metadata": {
    "colab_type": "text",
    "id": "PAHriYbBBq_y"
   },
   "source": [
    "**Question 1**:  \n",
    "Above we have produced histograms of Glucose, Age and DiabetesPedigreeFunction.\n",
    "\n",
    "What is shown on the x-axis? what is the y-axis?"
   ]
  },
  {
   "cell_type": "markdown",
   "metadata": {
    "colab_type": "raw",
    "id": "R0w6_UR7Bq_z"
   },
   "source": [
    "x-axis: Independant Variable (Glucose or Age or Pedigree Function)\n",
    "y-axis: Frequency"
   ]
  },
  {
   "cell_type": "markdown",
   "metadata": {
    "colab_type": "text",
    "id": "sjDfotQiBq_0"
   },
   "source": [
    "As illustrated above, the different variables have vastly different scales. This can make it hard to interpret the coefficients of our linear regression model, because they will depend on the original scales of each variable. For this reason, we would like to standardize the variables by calculating *z-scores*, where\n",
    "\n",
    "$$ z = \\frac{(x - \\bar x)}{\\sigma} $$\n",
    "\n",
    "This way, all variables have a mean of 0 and standard deviation $\\sigma$ of 1 and our coefficients will be more comparable between each other.\n",
    "\n",
    "Before we standardize, we would like to keep track of the original means and standard deviations.\n",
    "\n",
    "## Task 1:\n",
    "\n",
    "Calculate the mean and standard deviation for each column of the DataFrame `data`.\n"
   ]
  },
  {
   "cell_type": "raw",
   "metadata": {},
   "source": [
    "z = (x – μ) / σ\n",
    "= 190 – 150 / 25 = 1.6.\n",
    "The z score tells you how many standard deviations from the mean your score is."
   ]
  },
  {
   "cell_type": "code",
   "execution_count": 151,
   "metadata": {
    "colab": {},
    "colab_type": "code",
    "id": "MhCqmBPjBq_1"
   },
   "outputs": [
    {
     "name": "stdout",
     "output_type": "stream",
     "text": [
      "means {'Pregnancies': 3.8511904761904763, 'Glucose': 122.2797619047619, 'BloodPressure': 70.24404761904762, 'SkinThickness': 28.663690476190474, 'Insulin': 155.34821428571428, 'BMI': 32.297321428571436, 'DiabetesPedigreeFunction': 0.518702380952381, 'Age': 31.836309523809526}\n",
      "std {'Pregnancies': 3.1436630911065317, 'Glucose': 30.73880469746709, 'BloodPressure': 12.344989837702188, 'SkinThickness': 10.234598915043723, 'Insulin': 118.60039773141287, 'BMI': 6.359073848148603, 'DiabetesPedigreeFunction': 0.3272012461322871, 'Age': 10.442871375769295}\n"
     ]
    }
   ],
   "source": [
    "means = {col : np.mean(data[col]) for col in data}\n",
    "print('means', means)\n",
    "standard_deviations = {col : np.std(data[col]) for col in data}\n",
    "print('std', standard_deviations)"
   ]
  },
  {
   "cell_type": "markdown",
   "metadata": {
    "colab_type": "text",
    "id": "ikz-7g1zBq_6"
   },
   "source": [
    "## Task 2:\n",
    "\n",
    "Write a function `zscore(x)` that for a given numpy-array `x`, returns the standardized values. We then apply this function to all the columns of `data`.\n",
    "\n",
    "*hint: Use numpy functions! Make sure you known what DataFrame.apply() does*"
   ]
  },
  {
   "cell_type": "code",
   "execution_count": 152,
   "metadata": {
    "colab": {},
    "colab_type": "code",
    "id": "C1WdttulBq_9"
   },
   "outputs": [
    {
     "data": {
      "text/html": [
       "<div>\n",
       "<style scoped>\n",
       "    .dataframe tbody tr th:only-of-type {\n",
       "        vertical-align: middle;\n",
       "    }\n",
       "\n",
       "    .dataframe tbody tr th {\n",
       "        vertical-align: top;\n",
       "    }\n",
       "\n",
       "    .dataframe thead th {\n",
       "        text-align: right;\n",
       "    }\n",
       "</style>\n",
       "<table border=\"1\" class=\"dataframe\">\n",
       "  <thead>\n",
       "    <tr style=\"text-align: right;\">\n",
       "      <th></th>\n",
       "      <th>Pregnancies</th>\n",
       "      <th>Glucose</th>\n",
       "      <th>BloodPressure</th>\n",
       "      <th>SkinThickness</th>\n",
       "      <th>Insulin</th>\n",
       "      <th>BMI</th>\n",
       "      <th>DiabetesPedigreeFunction</th>\n",
       "      <th>Age</th>\n",
       "    </tr>\n",
       "  </thead>\n",
       "  <tbody>\n",
       "    <tr>\n",
       "      <th>3</th>\n",
       "      <td>-0.906964</td>\n",
       "      <td>-1.082663</td>\n",
       "      <td>-0.343787</td>\n",
       "      <td>-0.553387</td>\n",
       "      <td>-0.517268</td>\n",
       "      <td>-0.660052</td>\n",
       "      <td>-1.074881</td>\n",
       "      <td>-1.037675</td>\n",
       "    </tr>\n",
       "    <tr>\n",
       "      <th>6</th>\n",
       "      <td>-0.270764</td>\n",
       "      <td>-1.440517</td>\n",
       "      <td>-1.639859</td>\n",
       "      <td>0.325983</td>\n",
       "      <td>-0.567858</td>\n",
       "      <td>-0.204011</td>\n",
       "      <td>-0.827327</td>\n",
       "      <td>-0.558880</td>\n",
       "    </tr>\n",
       "    <tr>\n",
       "      <th>8</th>\n",
       "      <td>-0.588864</td>\n",
       "      <td>2.430811</td>\n",
       "      <td>-0.019769</td>\n",
       "      <td>1.596185</td>\n",
       "      <td>3.268554</td>\n",
       "      <td>-0.282639</td>\n",
       "      <td>-1.102387</td>\n",
       "      <td>2.026616</td>\n",
       "    </tr>\n",
       "    <tr>\n",
       "      <th>13</th>\n",
       "      <td>-0.906964</td>\n",
       "      <td>2.170554</td>\n",
       "      <td>-0.829814</td>\n",
       "      <td>-0.553387</td>\n",
       "      <td>5.823351</td>\n",
       "      <td>-0.345541</td>\n",
       "      <td>-0.368893</td>\n",
       "      <td>2.601171</td>\n",
       "    </tr>\n",
       "    <tr>\n",
       "      <th>14</th>\n",
       "      <td>0.365437</td>\n",
       "      <td>1.422314</td>\n",
       "      <td>0.142240</td>\n",
       "      <td>-0.944218</td>\n",
       "      <td>0.165697</td>\n",
       "      <td>-1.021740</td>\n",
       "      <td>0.208733</td>\n",
       "      <td>1.835098</td>\n",
       "    </tr>\n",
       "  </tbody>\n",
       "</table>\n",
       "</div>"
      ],
      "text/plain": [
       "    Pregnancies   Glucose  BloodPressure  SkinThickness   Insulin       BMI  \\\n",
       "3     -0.906964 -1.082663      -0.343787      -0.553387 -0.517268 -0.660052   \n",
       "6     -0.270764 -1.440517      -1.639859       0.325983 -0.567858 -0.204011   \n",
       "8     -0.588864  2.430811      -0.019769       1.596185  3.268554 -0.282639   \n",
       "13    -0.906964  2.170554      -0.829814      -0.553387  5.823351 -0.345541   \n",
       "14     0.365437  1.422314       0.142240      -0.944218  0.165697 -1.021740   \n",
       "\n",
       "    DiabetesPedigreeFunction       Age  \n",
       "3                  -1.074881 -1.037675  \n",
       "6                  -0.827327 -0.558880  \n",
       "8                  -1.102387  2.026616  \n",
       "13                 -0.368893  2.601171  \n",
       "14                  0.208733  1.835098  "
      ]
     },
     "execution_count": 152,
     "metadata": {},
     "output_type": "execute_result"
    }
   ],
   "source": [
    "def zscore(x):\n",
    "    return (x - np.mean(x))/np.std(x)\n",
    "\n",
    "standardizeddata = data.apply(zscore)\n",
    "standardizeddata.head()"
   ]
  },
  {
   "cell_type": "code",
   "execution_count": 153,
   "metadata": {
    "colab": {},
    "colab_type": "code",
    "id": "a8_5YwTyBrAC"
   },
   "outputs": [
    {
     "data": {
      "image/png": "[encoded data removed]",
      "text/plain": [
       "<Figure size 576x288 with 3 Axes>"
      ]
     },
     "metadata": {
      "needs_background": "dark"
     },
     "output_type": "display_data"
    }
   ],
   "source": [
    "fig, (ax0, ax1, ax2) = plt.subplots(ncols=3, figsize=(8, 4))\n",
    "ax0.hist(standardizeddata['Glucose'], 20, density=False, facecolor='b')\n",
    "ax0.set_title('Glucose')\n",
    "ax1.hist(standardizeddata['Age'], 20, density=False, facecolor='g')\n",
    "ax1.set_title('Age')\n",
    "ax2.hist(standardizeddata['DiabetesPedigreeFunction'], 20, density=False, facecolor='r')\n",
    "ax2.set_title('Pedigree Function')\n",
    "fig.tight_layout()\n"
   ]
  },
  {
   "cell_type": "markdown",
   "metadata": {
    "colab_type": "text",
    "id": "QhWZL2aZBrAI"
   },
   "source": [
    "Notice how the scales have changed in the plots above."
   ]
  },
  {
   "cell_type": "code",
   "execution_count": 154,
   "metadata": {
    "colab": {},
    "colab_type": "code",
    "id": "CiKO1lynBrAK"
   },
   "outputs": [
    {
     "name": "stdout",
     "output_type": "stream",
     "text": [
      "[[ 1.         -0.90696439 -1.08266285 ... -0.66005232 -1.07488093\n",
      "  -1.03767528]\n",
      " [ 1.         -0.2707639  -1.44051671 ... -0.20401107 -0.82732686\n",
      "  -0.55887977]\n",
      " [ 1.         -0.58886414  2.43081144 ... -0.28263887 -1.10238694\n",
      "   2.02661602]\n",
      " ...\n",
      " [ 1.         -0.58886414 -1.11519502 ... -0.61287564  0.75579669\n",
      "  -0.94191618]\n",
      " [ 1.          1.95593782 -0.69227682 ...  0.09477458 -1.06265604\n",
      "   2.98420706]\n",
      " [ 1.          0.36543659 -0.04163343 ... -0.95883797 -0.83649553\n",
      "  -0.17584335]]\n",
      "number of samples n = 336 and number of features d = 7\n"
     ]
    }
   ],
   "source": [
    "# Let's define x and y. x are our observations and y is what we want to predict.\n",
    "\n",
    "indep_vars = ['Pregnancies', 'Glucose', 'BloodPressure', 'SkinThickness', 'BMI', 'DiabetesPedigreeFunction', 'Age']\n",
    "dep_var = ['Insulin']\n",
    "\n",
    "x = standardizeddata[indep_vars]\n",
    "y = standardizeddata[dep_var]\n",
    "\n",
    "x = np.array(x)\n",
    "y = np.array(y)\n",
    "\n",
    "n = x.shape[0]\n",
    "d = x.shape[1]\n",
    "\n",
    "# add a column of ones to the left of x\n",
    "X = np.insert(x, [0], 1, axis=1)\n",
    "print(X)\n",
    "\n",
    "print('number of samples n =', n, 'and number of features d =', d)"
   ]
  },
  {
   "cell_type": "markdown",
   "metadata": {
    "colab_type": "text",
    "id": "Epd4D7JBBrAN"
   },
   "source": [
    "From the lecture we know that the least squares solution can be obtained using the formula:\n",
    "\n",
    "$$ \\mathbf θ = (\\mathbf X^T \\mathbf X)^{-1}\\;\\mathbf X^T \\mathbf y $$"
   ]
  },
  {
   "cell_type": "markdown",
   "metadata": {
    "colab_type": "text",
    "id": "wnrp1R8oBrAO"
   },
   "source": [
    "## Task 3:\n",
    "Write a function `least_squares(x,y)` that implements the calculation above using numpy (x and y are [numpy.ndarray](https://docs.scipy.org/doc/numpy/reference/generated/numpy.ndarray.html)). Finally, write a function that takes a matrix of observations and a parameter vector $\\mathbf θ$ (theta), and returns a vector of predictions `y_hat`.\n",
    "\n",
    "*hint: numpy.linalg.inv() , numpy.ndarray.transpose(), numpy.ndarray.dot()*"
   ]
  },
  {
   "cell_type": "code",
   "execution_count": 155,
   "metadata": {
    "colab": {},
    "colab_type": "code",
    "id": "h_TUDTFsBrAP"
   },
   "outputs": [],
   "source": [
    "def least_squares(x,y):\n",
    "    \n",
    "    dot_prod = np.dot(x.transpose(), x)\n",
    "    inverse_of_dot = np.linalg.inv(dot_prod)\n",
    "    dot_prod_2 = np.dot(inverse_of_dot, x.transpose())\n",
    "    theta = np.dot(dot_prod_2, y)\n",
    "    \n",
    "    return theta"
   ]
  },
  {
   "cell_type": "code",
   "execution_count": 156,
   "metadata": {
    "colab": {},
    "colab_type": "code",
    "id": "ffPlEnyBBrAT"
   },
   "outputs": [],
   "source": [
    "def predict(x, theta):\n",
    "    y_hat = np.dot(x, theta)\n",
    "    return y_hat"
   ]
  },
  {
   "cell_type": "markdown",
   "metadata": {
    "colab_type": "text",
    "id": "LVTubdPcBrAY"
   },
   "source": [
    "\n",
    "Above we placed our predictor variables into the matrix $\\mathbf X$ and we set up our output vector $\\mathbf y$. Before we fit our model, we design our machine-learning experiment:\n",
    "\n",
    "We fit our model-parameters $\\theta$ using the training set. The validation-set is used for hyper-parameter tuning (we do this later in the exercise for L2-regularized least-squares). The performance on the test-set will give us our final performance-estimate.\n",
    "\n",
    "Therefore, we have to split our dataset into training, test and validation sets. We will do this, using the popular python machine learning library 'scikit-learn'. The library provides a function called `train_test_split()`. Read the docs about it [here](https://scikit-learn.org/stable/modules/generated/sklearn.model_selection.train_test_split.html).\n",
    "\n",
    "The function requires our data matrix $\\mathbf X$ and output vector $\\mathbf y$ as inputs and will output the same data but divided into training and test subsets. How much data we want to use for validation/testing, is defined by the `test_size`-parameter.\n",
    "\n",
    "We use the scikit-learn function `train_test_split()` to split your data into training, test and validation sets:"
   ]
  },
  {
   "cell_type": "code",
   "execution_count": 157,
   "metadata": {
    "colab": {},
    "colab_type": "code",
    "id": "sp0uPIzjBrAZ"
   },
   "outputs": [],
   "source": [
    "# Import the fuction from the scikit-learn library\n",
    "from sklearn.model_selection import train_test_split\n",
    "\n",
    "X_train, X_test, y_train, y_test = train_test_split(X, y, test_size=0.3, random_state=1)\n",
    "X_valid, X_test, y_valid, y_test = train_test_split(X_test, y_test, test_size=0.5, random_state=1)"
   ]
  },
  {
   "cell_type": "markdown",
   "metadata": {
    "colab_type": "text",
    "id": "-FOg41cYBrAe"
   },
   "source": [
    "**Question 2**: After performing the operation above, How many % of the original data X are part of the train-, validation- and test-set, respectively? "
   ]
  },
  {
   "cell_type": "markdown",
   "metadata": {
    "colab_type": "raw",
    "id": "00nQsbZZBrAg"
   },
   "source": [
    "train: 70 %\n",
    "validation: 15 %\n",
    "test: 15 %"
   ]
  },
  {
   "cell_type": "markdown",
   "metadata": {
    "colab_type": "text",
    "id": "KvzVH24UBrAg"
   },
   "source": [
    "## Task 4:  \n",
    "Fit your model on `X_train` and `y_train` using your `least_squares`-function from above:"
   ]
  },
  {
   "cell_type": "code",
   "execution_count": 158,
   "metadata": {
    "colab": {},
    "colab_type": "code",
    "id": "MlBC_rnPBrAh"
   },
   "outputs": [],
   "source": [
    "theta = least_squares(X_train, y_train)"
   ]
  },
  {
   "cell_type": "code",
   "execution_count": 159,
   "metadata": {
    "colab": {},
    "colab_type": "code",
    "id": "ItoRHSTCBrAn"
   },
   "outputs": [
    {
     "name": "stdout",
     "output_type": "stream",
     "text": [
      "bias: -0.029\n",
      "Pregnancies: -0.187\n",
      "Glucose: 0.544\n",
      "BloodPressure: -0.053\n",
      "SkinThickness: 0.030\n",
      "BMI: 0.081\n",
      "DiabetesPedigreeFunction: 0.141\n",
      "Age: 0.204\n"
     ]
    }
   ],
   "source": [
    "# we have a look at the resulting parameters\n",
    "\n",
    "var_label = ['bias'] + indep_vars\n",
    "for i, p in enumerate(theta):\n",
    "    print(\"{}: {:.3f}\".format(var_label[i], float(p)))"
   ]
  },
  {
   "cell_type": "markdown",
   "metadata": {
    "colab_type": "text",
    "id": "3vzraEi1BrAq"
   },
   "source": [
    "**Expected Output:**  \n",
    "bias: -0.029  \n",
    "Pregnancies: -0.187  \n",
    "Glucose: 0.544  \n",
    "BloodPressure: -0.053  \n",
    "SkinThickness: 0.030  \n",
    "BMI: 0.081  \n",
    "DiabetesPedigreeFunction: 0.141  \n",
    "Age: 0.204  "
   ]
  },
  {
   "cell_type": "markdown",
   "metadata": {
    "colab_type": "text",
    "id": "IbApl6ouBrAs"
   },
   "source": [
    "Predict on the validation set:"
   ]
  },
  {
   "cell_type": "code",
   "execution_count": 160,
   "metadata": {
    "colab": {},
    "colab_type": "code",
    "id": "tuHvwOZsBrAt"
   },
   "outputs": [],
   "source": [
    "y_hat = predict(X_valid, theta)"
   ]
  },
  {
   "cell_type": "code",
   "execution_count": 161,
   "metadata": {
    "colab": {},
    "colab_type": "code",
    "id": "bgmMvPvhBrAw"
   },
   "outputs": [
    {
     "data": {
      "image/png": "[encoded data removed]",
      "text/plain": [
       "<Figure size 432x288 with 1 Axes>"
      ]
     },
     "metadata": {
      "needs_background": "dark"
     },
     "output_type": "display_data"
    }
   ],
   "source": [
    "# this produces a plot of y_hat vs y\n",
    "plt.scatter(y_valid, y_hat)\n",
    "plt.xlabel('Actual Values (y)')\n",
    "plt.ylabel('Predicted Values (y_hat)')\n",
    "plt.suptitle('Prediction vs Actual')\n",
    "plt.show()"
   ]
  },
  {
   "cell_type": "code",
   "execution_count": 162,
   "metadata": {
    "colab": {},
    "colab_type": "code",
    "id": "hawzvvblBrA0"
   },
   "outputs": [
    {
     "data": {
      "image/png": "[encoded data removed]",
      "text/plain": [
       "<Figure size 432x288 with 1 Axes>"
      ]
     },
     "metadata": {
      "needs_background": "dark"
     },
     "output_type": "display_data"
    }
   ],
   "source": [
    "# this produces a plot of the residual vs y\n",
    "plt.scatter(y_valid, y_hat - y_valid)\n",
    "plt.xlabel('Actual Values (y)')\n",
    "plt.ylabel('Residual (y_hat - y)')\n",
    "plt.suptitle('Actual vs Residual')\n",
    "plt.show()"
   ]
  },
  {
   "cell_type": "markdown",
   "metadata": {
    "colab_type": "text",
    "id": "MTxJm24YBrA3"
   },
   "source": [
    "**Question 3**:  \n",
    "What do you see in the 'Actual vs Residual' plot above? In which areas are you over-estimating y? In which areas are you under-estimating y? What could be the reason for this behavior?\n",
    "\n",
    "Write your answer in the cell below."
   ]
  },
  {
   "cell_type": "code",
   "execution_count": null,
   "metadata": {},
   "outputs": [],
   "source": []
  },
  {
   "cell_type": "markdown",
   "metadata": {
    "colab_type": "raw",
    "id": "GuLLRFrXBrA5"
   },
   "source": []
  },
  {
   "cell_type": "markdown",
   "metadata": {
    "colab_type": "text",
    "id": "kafg6gLXBrA6"
   },
   "source": [
    "***\n",
    "### Regularized Least Squares\n",
    "\n",
    "In the lecture we discussed the concept of regularization.\n",
    "\n",
    "**Question 4:**  \n",
    "Why do we use regularization?"
   ]
  },
  {
   "cell_type": "raw",
   "metadata": {},
   "source": [
    "To avoid overfitting\n",
    "when working with smaller amounts of data"
   ]
  },
  {
   "cell_type": "markdown",
   "metadata": {
    "colab_type": "text",
    "id": "KDuij6VlBrA-"
   },
   "source": [
    "In the lecture we discussed the formula for regularized least squares using an L2-regularization term.\n",
    "\n",
    "$$  \\mathbf θ =  \\begin{bmatrix} \\frac{1}{n}\\mathbf X^{T}\\mathbf X+ \\mathit \\lambda I \\end{bmatrix}^{-1} \\begin{bmatrix}\\frac{1}{n}\\mathbf X^{T}\\mathbf Y \\end{bmatrix}$$\n",
    "\n",
    "\n",
    "\n",
    "## Task 5:  \n",
    "Implement the function `regularized_least_squares(x,y,lambd)`, which calculates the above mentioned equation for a given data matrix `x`, outcome variable `y`, and regularization parameter `lambd`:"
   ]
  },
  {
   "cell_type": "code",
   "execution_count": 169,
   "metadata": {
    "colab": {},
    "colab_type": "code",
    "id": "PKq7Qi1VBrBA"
   },
   "outputs": [],
   "source": [
    "def regularized_least_squares(x,y,lambd):\n",
    "    \n",
    "    n = x.shape[0]\n",
    "    m = x.shape[1]\n",
    "    \n",
    "    reg_xxt = np.dot(1/n * x.transpose(), x)\n",
    "    inverse_mat = np.linalg.inv(reg_xxt + lambd * np.identity(m))\n",
    "    theta = np.dot(inverse_mat, (np.dot(1/n * x.transpose(), y)))\n",
    "\n",
    "    return theta "
   ]
  },
  {
   "cell_type": "markdown",
   "metadata": {
    "colab_type": "text",
    "id": "2MLMWn7-BrBD"
   },
   "source": [
    "## Task 6:  \n",
    "\n",
    "Fit a model for different values of $\\lambda$. Append the results to the list `thetas`."
   ]
  },
  {
   "cell_type": "code",
   "execution_count": 173,
   "metadata": {
    "colab": {},
    "colab_type": "code",
    "id": "yI0eAcZpBrBE"
   },
   "outputs": [
    {
     "name": "stdout",
     "output_type": "stream",
     "text": [
      "(41, 8, 1)\n"
     ]
    }
   ],
   "source": [
    "# we initialize a vector L of values we want to use for lambda\n",
    "# start : 10.\n",
    "# end: 1e-4\n",
    "L = 10 ** np.linspace(start=1., stop=-4, num=41)\n",
    "thetas = []\n",
    "    \n",
    "thetas = np.array([regularized_least_squares(X_train,y_train,lambd) for lambd in L])\n",
    "print(thetas.shape)"
   ]
  },
  {
   "cell_type": "markdown",
   "metadata": {
    "colab_type": "text",
    "id": "bK_5FyzOBrBI"
   },
   "source": [
    "## Task 7:    \n",
    "Predict on the  validation set for all the different values of theta, calculate the mean squared error and append the mean squared error to the list `mse`."
   ]
  },
  {
   "cell_type": "code",
   "execution_count": 175,
   "metadata": {
    "colab": {},
    "colab_type": "code",
    "id": "LIk7WPnJBrBJ"
   },
   "outputs": [
    {
     "name": "stdout",
     "output_type": "stream",
     "text": [
      "mse: [0.9696, 0.9539 ... 0.8038, 0.8039]\n"
     ]
    }
   ],
   "source": [
    "def calc_mse(x_valid, y_valid, theta):\n",
    "    pred = predict(x_valid, theta)\n",
    "    return np.mean( (pred - y_valid) ** 2)\n",
    "\n",
    "mse = [calc_mse(X_valid, y_valid, theta) for theta in thetas]\n",
    "\n",
    "print('mse: [{:.4f}, {:.4f} ... {:.4f}, {:.4f}]'.format(mse[0],mse[1],mse[-2],mse[-1]))"
   ]
  },
  {
   "cell_type": "markdown",
   "metadata": {
    "colab_type": "text",
    "id": "d57G52x3BrBO"
   },
   "source": [
    "**Expected Output**:  \n",
    "mse: [0.9696, 0.9539, ... , 0.8038, 0.8039]"
   ]
  },
  {
   "cell_type": "markdown",
   "metadata": {
    "colab_type": "text",
    "id": "UF6bPs_fBrBO"
   },
   "source": [
    "We plot the performance of our model vs -log10($\\lambda$):"
   ]
  },
  {
   "cell_type": "code",
   "execution_count": 176,
   "metadata": {
    "colab": {},
    "colab_type": "code",
    "id": "ILWCcUpfBrBO"
   },
   "outputs": [
    {
     "data": {
      "image/png": "[encoded data removed]",
      "text/plain": [
       "<Figure size 432x288 with 1 Axes>"
      ]
     },
     "metadata": {
      "needs_background": "dark"
     },
     "output_type": "display_data"
    }
   ],
   "source": [
    "plt.plot(-1 * np.log10(np.array(L)), mse)\n",
    "plt.xlabel('-log10(lambda)')\n",
    "plt.show()"
   ]
  },
  {
   "cell_type": "markdown",
   "metadata": {
    "colab_type": "text",
    "id": "ywsmk263BrBS"
   },
   "source": [
    "**Question 5**:\n",
    "\n",
    "Investigate the graph above. How would you visually identify the best value for lambda?"
   ]
  },
  {
   "cell_type": "markdown",
   "metadata": {
    "colab_type": "raw",
    "id": "4FwDBKq-BrBT"
   },
   "source": [
    "write your answer here"
   ]
  },
  {
   "cell_type": "markdown",
   "metadata": {
    "colab_type": "text",
    "id": "fVYFgEVkBrBT"
   },
   "source": [
    "## Task 8:\n",
    "\n",
    "Retrieve the index `best_i` of the lambda-value in `L` that gave the best performance.\n",
    "\n",
    "Retrieve the corresponding value of lambda, and store it in `best_lambd`. Retrieve the parameters for that model and store them in `best_theta`.\n",
    "\n",
    "*hint: np.argmin()*"
   ]
  },
  {
   "cell_type": "code",
   "execution_count": 177,
   "metadata": {
    "colab": {},
    "colab_type": "code",
    "id": "zPylOf0DBrBU"
   },
   "outputs": [],
   "source": [
    "# find the best set of parameters theta:\n",
    "# this should not take more the 3 lines of code\n",
    "\n",
    "best_i = np.argmin(mse)\n",
    "best_lambd = L[best_i]\n",
    "best_theta = thetas[best_i]"
   ]
  },
  {
   "cell_type": "code",
   "execution_count": 178,
   "metadata": {
    "colab": {},
    "colab_type": "code",
    "id": "kxZgp4ieBrBZ"
   },
   "outputs": [
    {
     "name": "stdout",
     "output_type": "stream",
     "text": [
      "best lambda: 0.23713737056616552\n",
      "## best parameters \n",
      "bias: -0.016\n",
      "Pregnancies: -0.095\n",
      "Glucose: 0.442\n",
      "BloodPressure: -0.026\n",
      "SkinThickness: 0.040\n",
      "BMI: 0.066\n",
      "DiabetesPedigreeFunction: 0.126\n",
      "Age: 0.150\n"
     ]
    }
   ],
   "source": [
    "print('best lambda: {}'.format(best_lambd))\n",
    "\n",
    "print('## best parameters ')\n",
    "for i, p in enumerate(best_theta):\n",
    "    print(\"{}: {:.3f}\".format(var_label[i], float(p)))"
   ]
  },
  {
   "cell_type": "markdown",
   "metadata": {
    "colab_type": "text",
    "id": "it6Q7Ef-BrBm"
   },
   "source": [
    "** Expected Output: **\n",
    "\n",
    "best lambda: 0.237\n",
    "\n",
    "\\#\\# best parameters  \n",
    "bias: -0.016  \n",
    "Pregnancies: -0.095  \n",
    "Glucose: 0.442  \n",
    "BloodPressure: -0.026  \n",
    "SkinThickness: 0.040  \n",
    "BMI: 0.066  \n",
    "DiabetesPedigreeFunction: 0.126  \n",
    "Age: 0.150"
   ]
  },
  {
   "cell_type": "code",
   "execution_count": 179,
   "metadata": {
    "colab": {},
    "colab_type": "code",
    "id": "z9MBa6SYBrBn"
   },
   "outputs": [
    {
     "data": {
      "image/png": "[encoded data removed]",
      "text/plain": [
       "<Figure size 432x288 with 1 Axes>"
      ]
     },
     "metadata": {
      "needs_background": "dark"
     },
     "output_type": "display_data"
    }
   ],
   "source": [
    "# we can also visualize the best parameters with a bar-plot:\n",
    "plt.bar(var_label, theta[:,0])\n",
    "plt.xticks(rotation='vertical')\n",
    "plt.show()"
   ]
  },
  {
   "cell_type": "markdown",
   "metadata": {
    "colab_type": "text",
    "id": "8GUmmDIwBrBp"
   },
   "source": [
    "Finally, we compare the performance of the regularized vs the un-regularized model on the test set:"
   ]
  },
  {
   "cell_type": "code",
   "execution_count": 181,
   "metadata": {
    "colab": {},
    "colab_type": "code",
    "id": "dwDSNi7aBrBq"
   },
   "outputs": [
    {
     "name": "stdout",
     "output_type": "stream",
     "text": [
      "Least Squares MSE: 0.5832132668124699\n",
      "L2-regularized Least Squares MSE: 0.5651029073296518\n"
     ]
    }
   ],
   "source": [
    "unregularized_yhat = predict(X_test, theta)\n",
    "regularized_yhat = predict(X_test, thetas[best_i, :, :])\n",
    "\n",
    "mse_unregularized = np.mean(np.square(y_test - unregularized_yhat))\n",
    "mse_regularized = np.mean(np.square( y_test - regularized_yhat))\n",
    "\n",
    "print('Least Squares MSE: {}'.format(mse_unregularized))\n",
    "print('L2-regularized Least Squares MSE: {}'.format(mse_regularized))"
   ]
  },
  {
   "cell_type": "markdown",
   "metadata": {
    "colab_type": "text",
    "id": "pxQXCnP4BrBt"
   },
   "source": [
    "** Expected Output **:  \n",
    "\n",
    "Least Squares MSE: 0.5832  \n",
    "L2-regularized Least Squares MSE: 0.5651"
   ]
  },
  {
   "cell_type": "markdown",
   "metadata": {
    "colab_type": "text",
    "id": "0X6H4kJcBrBu"
   },
   "source": [
    "## Discussion\n",
    "\n",
    "Look at the bar-plot of coefficients above. Discuss with your team-mates:\n",
    "\n",
    " - What do you think are the most important variables to predict Insulin\n",
    " - Do these intuitively make sense?\n",
    " - What kind of analysis would further help you to understand the relationship between the different predictor variables?\n",
    " - Would you give this model to a clinic?"
   ]
  },
  {
   "cell_type": "markdown",
   "metadata": {
    "colab_type": "text",
    "id": "mLegAb8gBrBv"
   },
   "source": [
    "## Note:\n",
    "\n",
    "Above we implemented L2-regularized linear regression using numpy. However, the [scikit learn](https://scikit-learn.org/stable/modules/generated/sklearn.linear_model.Ridge.html) package already includes Ridge regression and other types of regularized linear models. In practice it is strongly preferable to use those provided functions. However, you would not have learned any numpy-operations and the mathematical concepts ;)\n",
    "\n"
   ]
  },
  {
   "cell_type": "markdown",
   "metadata": {
    "colab_type": "text",
    "id": "C-VDLZWoBrBw"
   },
   "source": [
    "Congratulations, you made it through the second tutorial of this course!  \n",
    "\n",
    "# Submitting your assignment\n",
    "\n",
    "Please rename your notebook under your full name and send it to machinelearning.dhc@gmail.com.  \n",
    "If you have a google account, you can also share your jupyter-file on Google Drive with this eMail address.\n",
    "\n",
    "Please rename the file to 1_LinRegTut_<GROUP\\>.ipynb and replace <GROUP\\> with your group-name.\n",
    "\n",
    "As this is also the first time for us preparing this tutorial, you are welcome to give us feedback to help us improve this tutorial.  \n",
    "\n",
    "Thank you!  \n",
    "\n",
    "Jana & Remo"
   ]
  }
 ],
 "metadata": {
  "colab": {
   "collapsed_sections": [
    "kafg6gLXBrA6"
   ],
   "name": "2_RegularizationTut_STUDENT.ipynb",
   "provenance": [],
   "version": "0.3.2"
  },
  "kernelspec": {
   "display_name": "Python 3",
   "language": "python",
   "name": "python3"
  },
  "language_info": {
   "codemirror_mode": {
    "name": "ipython",
    "version": 3
   },
   "file_extension": ".py",
   "mimetype": "text/x-python",
   "name": "python",
   "nbconvert_exporter": "python",
   "pygments_lexer": "ipython3",
   "version": "3.7.3"
  }
 },
 "nbformat": 4,
 "nbformat_minor": 1
}
